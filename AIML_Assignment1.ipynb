{
 "cells": [
  {
   "cell_type": "markdown",
   "id": "7564d687",
   "metadata": {},
   "source": [
    "Numpy program to compute cross product of 2 given vectors."
   ]
  },
  {
   "cell_type": "code",
   "execution_count": 5,
   "id": "7c0af980",
   "metadata": {},
   "outputs": [
    {
     "data": {
      "text/plain": [
       "array(-5)"
      ]
     },
     "execution_count": 5,
     "metadata": {},
     "output_type": "execute_result"
    }
   ],
   "source": [
    "import numpy as np\n",
    "a=[1,2]\n",
    "b=[4,3]\n",
    "c=np.cross(a,b)\n",
    "c"
   ]
  },
  {
   "cell_type": "code",
   "execution_count": 8,
   "id": "08ba6484",
   "metadata": {},
   "outputs": [
    {
     "data": {
      "text/plain": [
       "array([2, 7])"
      ]
     },
     "execution_count": 8,
     "metadata": {},
     "output_type": "execute_result"
    }
   ],
   "source": [
    "import numpy as np\n",
    "p = [[2, 2], [3, 1]]\n",
    "q = [[6, 7], [5, 4]]\n",
    "product = np.cross(p,q)\n",
    "product"
   ]
  },
  {
   "cell_type": "code",
   "execution_count": 18,
   "id": "a06630d5",
   "metadata": {},
   "outputs": [
    {
     "name": "stdout",
     "output_type": "stream",
     "text": [
      "[1, 2]\n",
      "[4, 3]\n",
      "-5\n"
     ]
    }
   ],
   "source": [
    "\n",
    "def cross_prod(a,b):\n",
    "    print(a)\n",
    "    print(b)\n",
    "    c=np.cross(a,b)\n",
    "    print(c)\n",
    "a=[1,2]\n",
    "b=[4,3]   \n",
    "cross_prod(a,b)\n",
    "    "
   ]
  },
  {
   "cell_type": "code",
   "execution_count": 1,
   "id": "fd2a1c93",
   "metadata": {},
   "outputs": [
    {
     "name": "stdout",
     "output_type": "stream",
     "text": [
      "first vector: [[1 2]\n",
      " [3 4]]\n",
      "Second vector: [[4 3]\n",
      " [7 8]]\n",
      "cross product: [-5 -4]\n"
     ]
    }
   ],
   "source": [
    "import numpy as np\n",
    "m=[[1,2],[3,4]]\n",
    "m=np.array(m)\n",
    "n=[[4,3],[7,8]]\n",
    "n=np.array(n)\n",
    "def cross_product(m,n):\n",
    "    print(\"first vector:\",m)\n",
    "    print(\"Second vector:\",n)\n",
    "    return np.cross(m,n)\n",
    "cross=cross_product(m,n)\n",
    "print(\"cross product:\",cross)\n",
    "    "
   ]
  },
  {
   "cell_type": "code",
   "execution_count": 2,
   "id": "9ca47671",
   "metadata": {},
   "outputs": [
    {
     "name": "stdout",
     "output_type": "stream",
     "text": [
      "-5\n"
     ]
    }
   ],
   "source": [
    "a=[1,2]\n",
    "b=[4,3]\n",
    "cross=(a[0]*b[1])-(a[1]*b[0])\n",
    "print(cross)"
   ]
  },
  {
   "cell_type": "code",
   "execution_count": null,
   "id": "1bab2b54",
   "metadata": {},
   "outputs": [],
   "source": []
  }
 ],
 "metadata": {
  "kernelspec": {
   "display_name": "Python 3 (ipykernel)",
   "language": "python",
   "name": "python3"
  },
  "language_info": {
   "codemirror_mode": {
    "name": "ipython",
    "version": 3
   },
   "file_extension": ".py",
   "mimetype": "text/x-python",
   "name": "python",
   "nbconvert_exporter": "python",
   "pygments_lexer": "ipython3",
   "version": "3.10.2"
  }
 },
 "nbformat": 4,
 "nbformat_minor": 5
}
