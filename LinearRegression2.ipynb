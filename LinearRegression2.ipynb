{
  "cells": [
    {
      "cell_type": "code",
      "execution_count": 1,
      "metadata": {
        "id": "8ZM1TWiqYwRD"
      },
      "outputs": [],
      "source": [
        "import numpy as np  #a fundamental Python scientific package that allows many high-performance operations on single- and multi-dimensional arrays."
      ]
    },
    {
      "cell_type": "code",
      "execution_count": 2,
      "metadata": {
        "id": "PQzBsh_BYwRH"
      },
      "outputs": [],
      "source": [
        "import matplotlib.pyplot as plt"
      ]
    },
    {
      "cell_type": "code",
      "execution_count": 3,
      "metadata": {
        "id": "56LHUwY4YwRK"
      },
      "outputs": [],
      "source": [
        "import pandas as pd"
      ]
    },
    {
      "cell_type": "code",
      "execution_count": 5,
      "metadata": {
        "id": "khLcMWJiYwRO",
        "outputId": "0aa2958e-0f1f-4220-8ac7-b660b3088b44"
      },
      "outputs": [
        {
          "ename": "SyntaxError",
          "evalue": "(unicode error) 'unicodeescape' codec can't decode bytes in position 2-3: truncated \\UXXXXXXXX escape (<ipython-input-5-f5eec56d44ae>, line 1)",
          "output_type": "error",
          "traceback": [
            "\u001b[1;36m  File \u001b[1;32m\"<ipython-input-5-f5eec56d44ae>\"\u001b[1;36m, line \u001b[1;32m1\u001b[0m\n\u001b[1;33m    dataset = pd.read_csv('C:\\Users\\RDRL\\Desktop\\Salary_Data.csv')   #https://github.com/content-anu/dataset-simple-linear\u001b[0m\n\u001b[1;37m                          ^\u001b[0m\n\u001b[1;31mSyntaxError\u001b[0m\u001b[1;31m:\u001b[0m (unicode error) 'unicodeescape' codec can't decode bytes in position 2-3: truncated \\UXXXXXXXX escape\n"
          ]
        }
      ],
      "source": [
        "dataset = pd.read_csv('C:\\Users\\RDRL\\Desktop\\Salary_Data.csv')   #https://github.com/content-anu/dataset-simple-linear\n",
        "dataset.head()"
      ]
    },
    {
      "cell_type": "code",
      "execution_count": null,
      "metadata": {
        "id": "Vm3hWLG8YwRR"
      },
      "outputs": [],
      "source": [
        "X = dataset.iloc[:,:-1].values  #independent variable array    #Python iloc() function enables us to select a particular cell of the datase\n",
        "y = dataset.iloc[:,1].values  #dependent variable vector"
      ]
    },
    {
      "cell_type": "code",
      "execution_count": null,
      "metadata": {
        "id": "6GPLi5rDYwRT",
        "outputId": "0dd01f1c-1040-47d6-a56a-bc5bd488b03c"
      },
      "outputs": [
        {
          "name": "stdout",
          "output_type": "stream",
          "text": [
            "[[ 1.1]\n",
            " [ 1.3]\n",
            " [ 1.5]\n",
            " [ 2. ]\n",
            " [ 2.2]\n",
            " [ 2.9]\n",
            " [ 3. ]\n",
            " [ 3.2]\n",
            " [ 3.2]\n",
            " [ 3.7]\n",
            " [ 3.9]\n",
            " [ 4. ]\n",
            " [ 4. ]\n",
            " [ 4.1]\n",
            " [ 4.5]\n",
            " [ 4.9]\n",
            " [ 5.1]\n",
            " [ 5.3]\n",
            " [ 5.9]\n",
            " [ 6. ]\n",
            " [ 6.8]\n",
            " [ 7.1]\n",
            " [ 7.9]\n",
            " [ 8.2]\n",
            " [ 8.7]\n",
            " [ 9. ]\n",
            " [ 9.5]\n",
            " [ 9.6]\n",
            " [10.3]\n",
            " [10.5]] [ 39343.  46205.  37731.  43525.  39891.  56642.  60150.  54445.  64445.\n",
            "  57189.  63218.  55794.  56957.  57081.  61111.  67938.  66029.  83088.\n",
            "  81363.  93940.  91738.  98273. 101302. 113812. 109431. 105582. 116969.\n",
            " 112635. 122391. 121872.]\n"
          ]
        }
      ],
      "source": [
        "print(X,y)"
      ]
    },
    {
      "cell_type": "code",
      "execution_count": null,
      "metadata": {
        "id": "17A3UnnnYwRV"
      },
      "outputs": [],
      "source": [
        "X=X/255"
      ]
    },
    {
      "cell_type": "code",
      "execution_count": null,
      "metadata": {
        "id": "HGg-Zp9DYwRW"
      },
      "outputs": [],
      "source": [
        "y=y/255"
      ]
    },
    {
      "cell_type": "code",
      "execution_count": null,
      "metadata": {
        "id": "ExKw3YA7YwRX",
        "outputId": "a7fa306a-df0f-4d9d-8f25-3a421b4a4158"
      },
      "outputs": [
        {
          "name": "stdout",
          "output_type": "stream",
          "text": [
            "[[0.00431373]\n",
            " [0.00509804]\n",
            " [0.00588235]\n",
            " [0.00784314]\n",
            " [0.00862745]\n",
            " [0.01137255]\n",
            " [0.01176471]\n",
            " [0.01254902]\n",
            " [0.01254902]\n",
            " [0.0145098 ]\n",
            " [0.01529412]\n",
            " [0.01568627]\n",
            " [0.01568627]\n",
            " [0.01607843]\n",
            " [0.01764706]\n",
            " [0.01921569]\n",
            " [0.02      ]\n",
            " [0.02078431]\n",
            " [0.02313725]\n",
            " [0.02352941]\n",
            " [0.02666667]\n",
            " [0.02784314]\n",
            " [0.03098039]\n",
            " [0.03215686]\n",
            " [0.03411765]\n",
            " [0.03529412]\n",
            " [0.0372549 ]\n",
            " [0.03764706]\n",
            " [0.04039216]\n",
            " [0.04117647]] [154.28627451 181.19607843 147.96470588 170.68627451 156.43529412\n",
            " 222.1254902  235.88235294 213.50980392 252.7254902  224.27058824\n",
            " 247.91372549 218.8        223.36078431 223.84705882 239.65098039\n",
            " 266.42352941 258.9372549  325.83529412 319.07058824 368.39215686\n",
            " 359.75686275 385.38431373 397.2627451  446.32156863 429.14117647\n",
            " 414.04705882 458.70196078 441.70588235 479.96470588 477.92941176]\n"
          ]
        }
      ],
      "source": [
        "print(X,y)"
      ]
    },
    {
      "cell_type": "code",
      "execution_count": null,
      "metadata": {
        "id": "5jnK2pL1YwRZ"
      },
      "outputs": [],
      "source": [
        "from sklearn.model_selection import train_test_split   #We need to split our dataset into the test and train set. Generally, we follow the 20-80 policy or the 30-70 policy respectively.\n",
        "X_train, X_test, y_train, y_test = train_test_split(X,y,test_size=0.33,random_state=0)"
      ]
    },
    {
      "cell_type": "code",
      "execution_count": null,
      "metadata": {
        "id": "gzePnK-mYwRb",
        "outputId": "c41be75a-c9e2-4d61-c192-a935b26fb8c8"
      },
      "outputs": [
        {
          "data": {
            "text/plain": [
              "LinearRegression()"
            ]
          },
          "execution_count": 14,
          "metadata": {},
          "output_type": "execute_result"
        }
      ],
      "source": [
        "from sklearn.linear_model import LinearRegression\n",
        "regressor = LinearRegression()    #Thus the model learns the correlation and learns how to predict the dependent variables based on the independent variable.\n",
        "\n",
        "\n",
        "regressor.fit(X_train,y_train) #actually produces the linear eqn for the data"
      ]
    },
    {
      "cell_type": "code",
      "execution_count": null,
      "metadata": {
        "id": "Fx4pYS-oYwRd",
        "outputId": "3bed01d1-ea3e-4c3e-bfb4-40640b03096d"
      },
      "outputs": [
        {
          "data": {
            "text/plain": [
              "array([160.13767023, 482.6643114 , 255.4296324 , 248.09948146,\n",
              "       453.34370766, 424.02310392, 457.00878313, 251.76455693,\n",
              "       299.41053801, 394.70250018])"
            ]
          },
          "execution_count": 15,
          "metadata": {},
          "output_type": "execute_result"
        }
      ],
      "source": [
        "y_pred = regressor.predict(X_test) \n",
        "y_pred"
      ]
    },
    {
      "cell_type": "code",
      "execution_count": null,
      "metadata": {
        "id": "v9aB0Q6sYwRe",
        "outputId": "10475433-fea9-4950-8e84-709d7de11649"
      },
      "outputs": [
        {
          "data": {
            "image/png": "[encoded data removed]",
            "text/plain": [
              "<Figure size 432x288 with 1 Axes>"
            ]
          },
          "metadata": {
            "needs_background": "light"
          },
          "output_type": "display_data"
        }
      ],
      "source": [
        "#plot for the TRAIN\n",
        " \n",
        "plt.scatter(X_train, y_train, color='red') # plotting the observation line\n",
        " \n",
        "plt.plot(X_train, regressor.predict(X_train), color='blue') # plotting the regression line\n",
        " \n",
        "plt.title(\"Salary vs Experience (Training set)\") # stating the title of the graph\n",
        " \n",
        "plt.xlabel(\"Years of experience\") # adding the name of x-axis\n",
        "plt.ylabel(\"Salaries\") # adding the name of y-axis\n",
        "plt.show() # specifies end of graph"
      ]
    },
    {
      "cell_type": "code",
      "execution_count": null,
      "metadata": {
        "id": "rtl2Uw-mYwRg",
        "outputId": "c9e5f1cf-e259-477e-a8f0-b05739c28735"
      },
      "outputs": [
        {
          "data": {
            "image/png": "[encoded data removed]",
            "text/plain": [
              "<Figure size 432x288 with 1 Axes>"
            ]
          },
          "metadata": {
            "needs_background": "light"
          },
          "output_type": "display_data"
        }
      ],
      "source": [
        "#plot for the TEST\n",
        " \n",
        "plt.scatter(X_test, y_test, color='red') \n",
        "plt.plot(X_train, regressor.predict(X_train), color='blue') # plotting the regression line\n",
        " \n",
        "plt.title(\"Salary vs Experience (Testing set)\")\n",
        " \n",
        "plt.xlabel(\"Years of experience\") \n",
        "plt.ylabel(\"Salaries\") \n",
        "plt.show()"
      ]
    },
    {
      "cell_type": "code",
      "execution_count": null,
      "metadata": {
        "id": "vD-elsrdYwRh",
        "outputId": "8ea3b727-25f6-4937-c555-29ffd2e7d781"
      },
      "outputs": [
        {
          "name": "stdout",
          "output_type": "stream",
          "text": [
            "[[0.00588235]\n",
            " [0.04039216]\n",
            " [0.01607843]\n",
            " [0.01529412]\n",
            " [0.0372549 ]\n",
            " [0.03411765]\n",
            " [0.03764706]\n",
            " [0.01568627]\n",
            " [0.02078431]\n",
            " [0.03098039]] [160.13767023 482.6643114  255.4296324  248.09948146 453.34370766\n",
            " 424.02310392 457.00878313 251.76455693 299.41053801 394.70250018]\n"
          ]
        }
      ],
      "source": [
        "print(X_test,y_pred)"
      ]
    },
    {
      "cell_type": "code",
      "execution_count": null,
      "metadata": {
        "id": "bJwrSl-2YwRh"
      },
      "outputs": [],
      "source": [
        "X_test1=[[0.00588235]]"
      ]
    },
    {
      "cell_type": "code",
      "execution_count": null,
      "metadata": {
        "id": "pFW0TowVYwRh",
        "outputId": "c4fe2ae2-dc3e-41ec-98a7-d2b06600fa7f"
      },
      "outputs": [
        {
          "data": {
            "text/plain": [
              "list"
            ]
          },
          "execution_count": 20,
          "metadata": {},
          "output_type": "execute_result"
        }
      ],
      "source": [
        "type(X_test1)"
      ]
    },
    {
      "cell_type": "code",
      "execution_count": null,
      "metadata": {
        "id": "Pd_o6ZH1YwRj"
      },
      "outputs": [],
      "source": [
        "y_pred1 = regressor.predict(X_test1)"
      ]
    },
    {
      "cell_type": "code",
      "execution_count": null,
      "metadata": {
        "id": "0AJLmcLlYwRj",
        "outputId": "04c00afe-0390-4243-f9c3-c894f97d5979"
      },
      "outputs": [
        {
          "data": {
            "text/plain": [
              "array([160.13764274])"
            ]
          },
          "execution_count": 29,
          "metadata": {},
          "output_type": "execute_result"
        }
      ],
      "source": [
        "y_pred1"
      ]
    },
    {
      "cell_type": "code",
      "execution_count": null,
      "metadata": {
        "id": "nMCQc-2aYwRk"
      },
      "outputs": [],
      "source": [
        "from sklearn.metrics import mean_squared_error"
      ]
    },
    {
      "cell_type": "code",
      "execution_count": null,
      "metadata": {
        "id": "5g7s0owVYwRl",
        "outputId": "2d1af8e6-2026-4767-8922-0b6794c30c95"
      },
      "outputs": [
        {
          "data": {
            "text/plain": [
              "323.35313078833093"
            ]
          },
          "execution_count": 30,
          "metadata": {},
          "output_type": "execute_result"
        }
      ],
      "source": [
        "mean_squared_error(y_test,y_pred)"
      ]
    },
    {
      "cell_type": "code",
      "execution_count": null,
      "metadata": {
        "id": "MtSe-hdiYwRl"
      },
      "outputs": [],
      "source": [
        "rms = mean_squared_error(y_test,y_pred, squared=False)"
      ]
    },
    {
      "cell_type": "code",
      "execution_count": null,
      "metadata": {
        "id": "XxTqGp6zYwRm",
        "outputId": "e8cbeeda-a0d3-443d-e5c5-29e885c993ef"
      },
      "outputs": [
        {
          "data": {
            "text/plain": [
              "17.982022433206197"
            ]
          },
          "execution_count": 32,
          "metadata": {},
          "output_type": "execute_result"
        }
      ],
      "source": [
        "rms"
      ]
    },
    {
      "cell_type": "code",
      "execution_count": null,
      "metadata": {
        "id": "GZ-QxKVeYwRn"
      },
      "outputs": [],
      "source": [
        "import math"
      ]
    },
    {
      "cell_type": "code",
      "execution_count": null,
      "metadata": {
        "id": "SQZEqJsZYwRn"
      },
      "outputs": [],
      "source": [
        "MSE = np.square(np.subtract(y_test,y_pred)).mean() \n",
        " \n",
        "RMSE = math.sqrt(MSE)"
      ]
    },
    {
      "cell_type": "code",
      "execution_count": null,
      "metadata": {
        "id": "Rd_hNJRcYwRo",
        "outputId": "e7bd02a1-42a7-4891-aa63-30f33b0722af"
      },
      "outputs": [
        {
          "name": "stdout",
          "output_type": "stream",
          "text": [
            "323.35313078833093 17.982022433206197\n"
          ]
        }
      ],
      "source": [
        "print(MSE, RMSE)"
      ]
    },
    {
      "cell_type": "code",
      "execution_count": null,
      "metadata": {
        "id": "ujC1XxhEYwRo"
      },
      "outputs": [],
      "source": [
        "from sklearn.metrics import mean_absolute_error,r2_score"
      ]
    },
    {
      "cell_type": "code",
      "execution_count": null,
      "metadata": {
        "id": "6jSrJlwmYwRo",
        "outputId": "6525afd2-d50e-4807-e9dc-c9ef09fd340f"
      },
      "outputs": [
        {
          "data": {
            "text/plain": [
              "13.436968382081204"
            ]
          },
          "execution_count": 39,
          "metadata": {},
          "output_type": "execute_result"
        }
      ],
      "source": [
        "mean_absolute_error(y_test, y_pred)"
      ]
    },
    {
      "cell_type": "code",
      "execution_count": null,
      "metadata": {
        "id": "6EZR9PDqYwRp"
      },
      "outputs": [],
      "source": [
        "mae_f = np.mean(abs(y_test-y_pred))"
      ]
    },
    {
      "cell_type": "code",
      "execution_count": null,
      "metadata": {
        "id": "vzRODgxWYwRp",
        "outputId": "649f2013-8ff4-4576-a266-d17ce4edaba0"
      },
      "outputs": [
        {
          "name": "stdout",
          "output_type": "stream",
          "text": [
            "13.436968382081204\n"
          ]
        }
      ],
      "source": [
        "print(mae_f)"
      ]
    },
    {
      "cell_type": "code",
      "execution_count": null,
      "metadata": {
        "id": "qvJ7RFrMYwRq"
      },
      "outputs": [],
      "source": [
        "d=y_test-y_pred"
      ]
    },
    {
      "cell_type": "code",
      "execution_count": null,
      "metadata": {
        "id": "GAypLliJYwRr"
      },
      "outputs": [],
      "source": [
        "r2_f = 1-(sum(d**2)/sum((y_test-np.mean(y_test))**2))"
      ]
    },
    {
      "cell_type": "code",
      "execution_count": null,
      "metadata": {
        "id": "o8tvYYCHYwRs",
        "outputId": "5fd4f11a-3516-45df-9f52-96b5f5d06162"
      },
      "outputs": [
        {
          "data": {
            "text/plain": [
              "0.9749154407708354"
            ]
          },
          "execution_count": 45,
          "metadata": {},
          "output_type": "execute_result"
        }
      ],
      "source": [
        "r2_f"
      ]
    },
    {
      "cell_type": "code",
      "execution_count": null,
      "metadata": {
        "id": "sNE20F3hYwRt",
        "outputId": "4e8c4337-7e8f-4033-ed46-4d412f3d91fd"
      },
      "outputs": [
        {
          "data": {
            "text/plain": [
              "0.9749154407708354"
            ]
          },
          "execution_count": 48,
          "metadata": {},
          "output_type": "execute_result"
        }
      ],
      "source": [
        "r2_score(y_test, y_pred)"
      ]
    },
    {
      "cell_type": "code",
      "execution_count": null,
      "metadata": {
        "id": "T14xcigSYwRv"
      },
      "outputs": [],
      "source": [
        "#The best possible score is 1 which is obtained when the predicted values are the same as the actual values. During the worse cases, R2 score can even be negative.\n",
        "#r2 ranges between 0 and 1"
      ]
    },
    {
      "cell_type": "code",
      "execution_count": null,
      "metadata": {
        "id": "dufVeqyOYwRv",
        "outputId": "f0241d48-fe81-40b1-cfc2-29fb0c122595"
      },
      "outputs": [
        {
          "data": {
            "text/plain": [
              "0.9749154407708354"
            ]
          },
          "execution_count": 53,
          "metadata": {},
          "output_type": "execute_result"
        }
      ],
      "source": [
        "regressor.score(X_test,y_test)"
      ]
    },
    {
      "cell_type": "code",
      "execution_count": null,
      "metadata": {
        "id": "uhZqYu3nYwRw"
      },
      "outputs": [],
      "source": []
    }
  ],
  "metadata": {
    "colab": {
      "name": "Linear Regression Salary.ipynb",
      "provenance": []
    },
    "kernelspec": {
      "display_name": "Python 3",
      "language": "python",
      "name": "python3"
    },
    "language_info": {
      "codemirror_mode": {
        "name": "ipython",
        "version": 3
      },
      "file_extension": ".py",
      "mimetype": "text/x-python",
      "name": "python",
      "nbconvert_exporter": "python",
      "pygments_lexer": "ipython3",
      "version": "3.8.8"
    }
  },
  "nbformat": 4,
  "nbformat_minor": 0
}
