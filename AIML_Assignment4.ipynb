{
 "cells": [
  {
   "cell_type": "raw",
   "id": "7116abc4",
   "metadata": {},
   "source": [
    "Assignment 4:\n",
    "Write pandas program to create\n",
    "a) datetime object for Feb 26 2022\n",
    "b) specific date and time of 10:30 AM\n",
    "c) local date and time\n",
    "d) date without time\n",
    "e) current date\n",
    "f) time from a datetime\n",
    "g) current local time\n",
    "\n"
   ]
  },
  {
   "cell_type": "code",
   "execution_count": 17,
   "id": "ae20cdd1",
   "metadata": {},
   "outputs": [],
   "source": [
    "import pandas as pd\n",
    "import datetime\n",
    "from datetime import datetime"
   ]
  },
  {
   "cell_type": "code",
   "execution_count": 18,
   "id": "ef1b646f",
   "metadata": {},
   "outputs": [
    {
     "name": "stdout",
     "output_type": "stream",
     "text": [
      "DatetimeIndex(['2022-02-26'], dtype='datetime64[ns]', freq=None)\n"
     ]
    }
   ],
   "source": [
    "# a) datetime object for Feb 26 2022\n",
    "date1=pd.to_datetime(['26/2/2022'], format='%d/%m/%Y')\n",
    "print(date1)\n"
   ]
  },
  {
   "cell_type": "code",
   "execution_count": 19,
   "id": "02098154",
   "metadata": {},
   "outputs": [
    {
     "name": "stdout",
     "output_type": "stream",
     "text": [
      "DatetimeIndex(['2022-02-26 10:30:00'], dtype='datetime64[ns]', freq=None)\n"
     ]
    }
   ],
   "source": [
    "# b) specific date and time of 10:30 AM\n",
    "date2=pd.to_datetime(['26/2/2022 10.30 AM'], format='%d/%m/%Y %H.%M AM' )\n",
    "print(date2)"
   ]
  },
  {
   "cell_type": "code",
   "execution_count": 20,
   "id": "17f699c1",
   "metadata": {},
   "outputs": [
    {
     "name": "stdout",
     "output_type": "stream",
     "text": [
      "2022-02-26 13:48:56.846198\n"
     ]
    }
   ],
   "source": [
    "# c) local date and time\n",
    "date3 = pd.Timestamp.now()\n",
    "print(date3)\n"
   ]
  },
  {
   "cell_type": "code",
   "execution_count": 21,
   "id": "c867c928",
   "metadata": {},
   "outputs": [
    {
     "name": "stdout",
     "output_type": "stream",
     "text": [
      "2022-02-25\n"
     ]
    }
   ],
   "source": [
    "# d) date without time\n",
    "date4=pd.to_datetime('2022/2/25').date()\n",
    "print(date4)"
   ]
  },
  {
   "cell_type": "code",
   "execution_count": 22,
   "id": "eed30ac6",
   "metadata": {},
   "outputs": [
    {
     "name": "stdout",
     "output_type": "stream",
     "text": [
      "2022-02-26\n",
      "2022-02-26\n"
     ]
    }
   ],
   "source": [
    "# e) current date\n",
    "date5 = pd.to_datetime(\"today\").date()\n",
    "print(date5)\n",
    "date6 = pd.to_datetime(\"now\").date()\n",
    "print(date6)"
   ]
  },
  {
   "cell_type": "code",
   "execution_count": 23,
   "id": "aa3de899",
   "metadata": {},
   "outputs": [
    {
     "name": "stdout",
     "output_type": "stream",
     "text": [
      "18:12:00\n"
     ]
    }
   ],
   "source": [
    "# f) time from a datetime\n",
    "date7=datetime.time(datetime(2012, 12, 15, 18, 12))\n",
    "print(date7)"
   ]
  },
  {
   "cell_type": "code",
   "execution_count": 24,
   "id": "b57531fa",
   "metadata": {},
   "outputs": [
    {
     "name": "stdout",
     "output_type": "stream",
     "text": [
      "08:18:58.309774\n"
     ]
    }
   ],
   "source": [
    "# g) current local time\n",
    "date8 = pd.to_datetime(\"now\").time()\n",
    "print(date8)"
   ]
  },
  {
   "cell_type": "code",
   "execution_count": null,
   "id": "a8ae8547",
   "metadata": {},
   "outputs": [],
   "source": []
  },
  {
   "cell_type": "code",
   "execution_count": null,
   "id": "f7176cba",
   "metadata": {},
   "outputs": [],
   "source": []
  }
 ],
 "metadata": {
  "kernelspec": {
   "display_name": "Python 3 (ipykernel)",
   "language": "python",
   "name": "python3"
  },
  "language_info": {
   "codemirror_mode": {
    "name": "ipython",
    "version": 3
   },
   "file_extension": ".py",
   "mimetype": "text/x-python",
   "name": "python",
   "nbconvert_exporter": "python",
   "pygments_lexer": "ipython3",
   "version": "3.9.7"
  }
 },
 "nbformat": 4,
 "nbformat_minor": 5
}
